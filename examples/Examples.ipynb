{
 "cells": [
  {
   "cell_type": "markdown",
   "metadata": {},
   "source": [
    "Import the library"
   ]
  },
  {
   "cell_type": "code",
   "execution_count": 1,
   "metadata": {},
   "outputs": [],
   "source": [
    "from carculator import *"
   ]
  },
  {
   "cell_type": "markdown",
   "metadata": {},
   "source": [
    "Load the default car parameters"
   ]
  },
  {
   "cell_type": "code",
   "execution_count": 2,
   "metadata": {},
   "outputs": [],
   "source": [
    "cip = CarInputParameters()"
   ]
  },
  {
   "cell_type": "markdown",
   "metadata": {},
   "source": [
    "Define the calculation mode: static or stochastic(number of iterations)"
   ]
  },
  {
   "cell_type": "code",
   "execution_count": 3,
   "metadata": {},
   "outputs": [],
   "source": [
    "cip.static()"
   ]
  },
  {
   "cell_type": "markdown",
   "metadata": {},
   "source": [
    "Fill-in the array that will be used to create the car models"
   ]
  },
  {
   "cell_type": "code",
   "execution_count": 4,
   "metadata": {},
   "outputs": [],
   "source": [
    "dcts, array = fill_xarray_from_input_parameters(cip)"
   ]
  },
  {
   "cell_type": "markdown",
   "metadata": {},
   "source": [
    "We can check the powertrains, sizes and yers considered"
   ]
  },
  {
   "cell_type": "code",
   "execution_count": 12,
   "metadata": {},
   "outputs": [
    {
     "data": {
      "text/plain": [
       "['BEV',\n",
       " 'FCEV',\n",
       " 'HEV-p',\n",
       " 'ICEV-d',\n",
       " 'ICEV-g',\n",
       " 'ICEV-p',\n",
       " 'PHEV',\n",
       " 'PHEV-c',\n",
       " 'PHEV-e']"
      ]
     },
     "execution_count": 12,
     "metadata": {},
     "output_type": "execute_result"
    }
   ],
   "source": [
    "list(array.powertrain.values)"
   ]
  },
  {
   "cell_type": "code",
   "execution_count": 15,
   "metadata": {},
   "outputs": [
    {
     "data": {
      "text/plain": [
       "[2017, 2040]"
      ]
     },
     "execution_count": 15,
     "metadata": {},
     "output_type": "execute_result"
    }
   ],
   "source": [
    "list(array.year.values)"
   ]
  },
  {
   "cell_type": "markdown",
   "metadata": {},
   "source": [
    "We can create now the car models, using the default parameters, while specifying a driving cycle"
   ]
  },
  {
   "cell_type": "code",
   "execution_count": 35,
   "metadata": {},
   "outputs": [],
   "source": [
    "cm = CarModel(array, cycle='WLTC')"
   ]
  },
  {
   "cell_type": "markdown",
   "metadata": {},
   "source": [
    "Alternatively, we can override specific parameters value, by passing a dicitonary or a filepath to an Excel file.\n",
    "For we wan to lower the lifetime of the car:"
   ]
  },
  {
   "cell_type": "code",
   "execution_count": 44,
   "metadata": {},
   "outputs": [],
   "source": [
    "dict_param = {('Driving', 'all', 'all', 'lifetime kilometers', 'none'): {(2017, 'loc'): 150000, (2040, 'loc'): 150000}}\n",
    "modify_xarray_from_custom_parameters(dict_param, array)\n",
    "cm = CarModel(array, cycle='WLTC')\n",
    "cm.set_all()"
   ]
  },
  {
   "cell_type": "markdown",
   "metadata": {},
   "source": [
    "Let's look at the Tank-to-wheel energy, for a Large diesel"
   ]
  },
  {
   "cell_type": "code",
   "execution_count": 46,
   "metadata": {},
   "outputs": [
    {
     "data": {
      "text/plain": [
       "<xarray.DataArray (year: 2)>\n",
       "array([2609.00601431, 1733.878351  ])\n",
       "Coordinates:\n",
       "    size        <U12 'Large'\n",
       "    powertrain  <U6 'ICEV-d'\n",
       "    parameter   <U48 'TtW energy'\n",
       "  * year        (year) int32 2017 2040\n",
       "    value       int32 0"
      ]
     },
     "execution_count": 46,
     "metadata": {},
     "output_type": "execute_result"
    }
   ],
   "source": [
    "cm.array.sel(powertrain='ICEV-d', size='Large', value=0, parameter='TtW energy')"
   ]
  },
  {
   "cell_type": "markdown",
   "metadata": {},
   "source": [
    "Or we indicate a filepath to the Excel file that contains customized values"
   ]
  },
  {
   "cell_type": "code",
   "execution_count": 49,
   "metadata": {},
   "outputs": [],
   "source": [
    "fp = r'C:\\Users\\romai\\Documents\\Notebooks\\template_workbook.xlsx'\n",
    "modify_xarray_from_custom_parameters(fp, array)\n",
    "cm = CarModel(array, cycle='WLTC')\n",
    "cm.set_all()"
   ]
  },
  {
   "cell_type": "code",
   "execution_count": 50,
   "metadata": {},
   "outputs": [
    {
     "data": {
      "text/plain": [
       "<xarray.DataArray (year: 2)>\n",
       "array([3026.34611736, 1988.54687143])\n",
       "Coordinates:\n",
       "    size        <U12 'Large'\n",
       "    powertrain  <U6 'ICEV-d'\n",
       "    parameter   <U48 'TtW energy'\n",
       "  * year        (year) int32 2017 2040\n",
       "    value       int32 0"
      ]
     },
     "execution_count": 50,
     "metadata": {},
     "output_type": "execute_result"
    }
   ],
   "source": [
    "cm.array.sel(powertrain='ICEV-d', size='Large', value=0, parameter='TtW energy')"
   ]
  },
  {
   "cell_type": "markdown",
   "metadata": {},
   "source": [
    "We can also change the driving cycle, among those offered:\n",
    "* WLTC\n",
    "* WLTC 3.1\n",
    "* WLTC 3.2\n",
    "* WLTC 3.3\n",
    "* WLTC 3.4\n",
    "* CADC Urban\n",
    "* CADC Road\n",
    "* CADC Motorway\n",
    "* CADC Motorway 130\n",
    "* CADC\n",
    "* NEDC"
   ]
  },
  {
   "cell_type": "code",
   "execution_count": 51,
   "metadata": {},
   "outputs": [
    {
     "data": {
      "text/plain": [
       "<xarray.DataArray (year: 2)>\n",
       "array([3466.83381274, 2357.58197706])\n",
       "Coordinates:\n",
       "    size        <U12 'Large'\n",
       "    powertrain  <U6 'ICEV-d'\n",
       "    parameter   <U48 'TtW energy'\n",
       "  * year        (year) int32 2017 2040\n",
       "    value       int32 0"
      ]
     },
     "execution_count": 51,
     "metadata": {},
     "output_type": "execute_result"
    }
   ],
   "source": [
    "cm = CarModel(array, cycle='CADC')\n",
    "cm.set_all()\n",
    "cm.array.sel(powertrain='ICEV-d', size='Large', value=0, parameter='TtW energy')"
   ]
  },
  {
   "cell_type": "markdown",
   "metadata": {},
   "source": [
    "Or even add our own driving cycle"
   ]
  },
  {
   "cell_type": "code",
   "execution_count": 8,
   "metadata": {},
   "outputs": [
    {
     "data": {
      "text/plain": [
       "[<matplotlib.lines.Line2D at 0x27296500d48>]"
      ]
     },
     "execution_count": 8,
     "metadata": {},
     "output_type": "execute_result"
    },
    {
     "data": {
      "image/png": "[encoded data removed]",
      "text/plain": [
       "<Figure size 432x288 with 1 Axes>"
      ]
     },
     "metadata": {
      "needs_background": "light"
     },
     "output_type": "display_data"
    }
   ],
   "source": [
    "import numpy as np\n",
    "import matplotlib.pyplot as plt\n",
    "x = np.linspace(1, 1000)\n",
    "def f(x):\n",
    "    return np.sin(x) + np.random.normal(scale=20, size=len(x)) + 70\n",
    "plt.plot(x, f(x))"
   ]
  },
  {
   "cell_type": "code",
   "execution_count": 9,
   "metadata": {},
   "outputs": [
    {
     "data": {
      "text/plain": [
       "<xarray.DataArray (year: 2)>\n",
       "array([13262.52115506,  9774.55145091])\n",
       "Coordinates:\n",
       "    size        <U12 'Large'\n",
       "    powertrain  <U6 'ICEV-d'\n",
       "    parameter   <U48 'TtW energy'\n",
       "  * year        (year) int32 2017 2040\n",
       "    value       int32 0"
      ]
     },
     "execution_count": 9,
     "metadata": {},
     "output_type": "execute_result"
    }
   ],
   "source": [
    "cycle = f(x)\n",
    "cm = CarModel(array, cycle=cycle)\n",
    "cm.set_all()\n",
    "cm.array.sel(powertrain='ICEV-d', size='Large', value=0, parameter='TtW energy')"
   ]
  },
  {
   "cell_type": "markdown",
   "metadata": {},
   "source": [
    "We can plot any attributes of the car models"
   ]
  },
  {
   "cell_type": "code",
   "execution_count": 10,
   "metadata": {},
   "outputs": [
    {
     "data": {
      "image/png": "[encoded data removed]",
      "text/plain": [
       "<Figure size 432x288 with 1 Axes>"
      ]
     },
     "metadata": {
      "needs_background": "light"
     },
     "output_type": "display_data"
    }
   ],
   "source": [
    "TtW_energy = cm.array.sel(size='SUV', year=2017, parameter='TtW energy', value=0) * 1/3600 * 100\n",
    "\n",
    "plt.bar(TtW_energy.powertrain, TtW_energy)\n",
    "plt.ylabel('kWh/100 km')\n",
    "plt.show()"
   ]
  },
  {
   "cell_type": "code",
   "execution_count": null,
   "metadata": {},
   "outputs": [],
   "source": []
  }
 ],
 "metadata": {
  "kernelspec": {
   "display_name": "Python 3",
   "language": "python",
   "name": "python3"
  },
  "language_info": {
   "codemirror_mode": {
    "name": "ipython",
    "version": 3
   },
   "file_extension": ".py",
   "mimetype": "text/x-python",
   "name": "python",
   "nbconvert_exporter": "python",
   "pygments_lexer": "ipython3",
   "version": "3.7.5"
  }
 },
 "nbformat": 4,
 "nbformat_minor": 2
}
